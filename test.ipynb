{
 "cells": [
  {
   "cell_type": "code",
   "execution_count": null,
   "id": "b734b6fc",
   "metadata": {},
   "outputs": [],
   "source": [
    "pip install selenium undetected-chromedriver bs4\n"
   ]
  },
  {
   "cell_type": "code",
   "execution_count": null,
   "id": "8874e2d1",
   "metadata": {},
   "outputs": [
    {
     "ename": "ModuleNotFoundError",
     "evalue": "No module named 'playwright'",
     "output_type": "error",
     "traceback": [
      "\u001b[1;31m---------------------------------------------------------------------------\u001b[0m",
      "\u001b[1;31mModuleNotFoundError\u001b[0m                       Traceback (most recent call last)",
      "Cell \u001b[1;32mIn[39], line 1\u001b[0m\n\u001b[1;32m----> 1\u001b[0m \u001b[38;5;28;01mfrom\u001b[39;00m\u001b[38;5;250m \u001b[39m\u001b[38;5;21;01mplaywright\u001b[39;00m\u001b[38;5;21;01m.\u001b[39;00m\u001b[38;5;21;01msync_api\u001b[39;00m\u001b[38;5;250m \u001b[39m\u001b[38;5;28;01mimport\u001b[39;00m sync_playwright\n\u001b[0;32m      3\u001b[0m \u001b[38;5;28;01mwith\u001b[39;00m sync_playwright() \u001b[38;5;28;01mas\u001b[39;00m p:\n\u001b[0;32m      4\u001b[0m     browser \u001b[38;5;241m=\u001b[39m p\u001b[38;5;241m.\u001b[39mchromium\u001b[38;5;241m.\u001b[39mlaunch(headless\u001b[38;5;241m=\u001b[39m\u001b[38;5;28;01mFalse\u001b[39;00m)\n",
      "\u001b[1;31mModuleNotFoundError\u001b[0m: No module named 'playwright'"
     ]
    }
   ],
   "source": [
    "import requests\n",
    "import random\n",
    "\n",
    "text = requests.get('https://m.youtube.com/@GoogleDevelopers/about', cookies={'CONSENT': 'YES+cb.20210328-17-p0.en-GB+FX+{}'.format(random.randint(100, 999))})\n",
    "\n",
    "print(text)\n",
    "\n",
    "\n",
    "\n",
    "\n"
   ]
  },
  {
   "cell_type": "code",
   "execution_count": 44,
   "id": "93a81fa3",
   "metadata": {},
   "outputs": [
    {
     "name": "stdout",
     "output_type": "stream",
     "text": [
      "📸 Screenshot saved to: about_section.png\n"
     ]
    }
   ],
   "source": [
    "import time\n",
    "import undetected_chromedriver as uc\n",
    "from selenium.webdriver.common.by import By\n",
    "from selenium.webdriver.support.ui import WebDriverWait\n",
    "from selenium.webdriver.support import expected_conditions as EC\n",
    "from selenium.common.exceptions import TimeoutException, NoSuchElementException\n",
    "\n",
    "def load_cookies(driver, channel_url):\n",
    "    try:\n",
    "        driver.get(channel_url + \"/about\")\n",
    "        time.sleep(3)  # Wait for page to load\n",
    "\n",
    "        # Manually add the CONSENT cookie (replace with your value)\n",
    "        driver.add_cookie({\n",
    "        \"name\": \"CONSENT\",\n",
    "        \"value\": 'YES+cb.20210328-17-p0.en-GB+FX+{}'.format(random.randint(100, 999)),\n",
    "        \"domain\": \".youtube.com\",\n",
    "        \"path\": \"/\"\n",
    "    })\n",
    "       \n",
    "        # print(\"✅ CONSENT cookie added manually\")\n",
    "        driver.get(channel_url + \"/about\")  # Refresh page with cookie\n",
    "        time.sleep(3)  # Wait for page to stabilize\n",
    "        return True\n",
    "    except Exception as e:\n",
    "        print(f\"⚠️ Error loading cookie: {e}\")\n",
    "        return False\n",
    "\n",
    "def screenshot_about_section(channel_url):\n",
    "    options = uc.ChromeOptions()\n",
    "    options.headless = False\n",
    "    options.add_argument(\"--window-size=1280,800\")\n",
    "    options.add_argument(\"--disable-popup-blocking\")\n",
    "\n",
    "    try:\n",
    "        driver = uc.Chrome(options=options)\n",
    "        \n",
    "        if load_cookies(driver, channel_url):\n",
    "            # Extra wait for page to stabilize\n",
    "            time.sleep(3)\n",
    "\n",
    "            # Scroll to load all content\n",
    "            driver.execute_script(\"window.scrollTo(0, document.body.scrollHeight);\")\n",
    "            time.sleep(2)\n",
    "\n",
    "            # Save screenshot\n",
    "            screenshot_path = \"about_section.png\"\n",
    "            driver.save_screenshot(screenshot_path)\n",
    "            print(f\"📸 Screenshot saved to: {screenshot_path}\")\n",
    "        else:\n",
    "            print(\"⚠️ Failed to load cookie. Screenshot not taken.\")\n",
    "\n",
    "    except Exception as e:\n",
    "        print(f\"⚠️ Error in screenshot_about_section: {e}\")\n",
    "    finally:\n",
    "        driver.quit()\n",
    "\n",
    "# Example usage\n",
    "channel_url = \"https://www.youtube.com/@GoogleDevelopers\"\n",
    "screenshot_about_section(channel_url)"
   ]
  }
 ],
 "metadata": {
  "kernelspec": {
   "display_name": "Python 3",
   "language": "python",
   "name": "python3"
  },
  "language_info": {
   "codemirror_mode": {
    "name": "ipython",
    "version": 3
   },
   "file_extension": ".py",
   "mimetype": "text/x-python",
   "name": "python",
   "nbconvert_exporter": "python",
   "pygments_lexer": "ipython3",
   "version": "3.10.9"
  }
 },
 "nbformat": 4,
 "nbformat_minor": 5
}
